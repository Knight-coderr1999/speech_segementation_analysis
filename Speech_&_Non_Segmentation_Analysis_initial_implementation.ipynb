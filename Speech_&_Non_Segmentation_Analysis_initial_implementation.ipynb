{
  "nbformat": 4,
  "nbformat_minor": 0,
  "metadata": {
    "colab": {
      "provenance": []
    },
    "kernelspec": {
      "name": "python3",
      "display_name": "Python 3"
    },
    "language_info": {
      "name": "python"
    }
  },
  "cells": [
    {
      "cell_type": "code",
      "source": [
        "!pip install speechbrain\n",
        "!pip install pydub"
      ],
      "metadata": {
        "id": "3UKEOOPmRIv5"
      },
      "execution_count": null,
      "outputs": []
    },
    {
      "cell_type": "code",
      "source": [
        "# to convert flac or webm into wav\n",
        "from pydub import AudioSegment\n",
        "import os\n",
        "\n",
        "def convert_to_wav(input_file):\n",
        "    # Extract file extension\n",
        "    file_ext = os.path.splitext(input_file)[1].lower()\n",
        "\n",
        "    # Define the output file path\n",
        "    output_file = os.path.splitext(input_file)[0] + \".wav\"\n",
        "\n",
        "    # Check format and convert accordingly\n",
        "    if file_ext in [\".webm\", \".flac\"]:\n",
        "        audio = AudioSegment.from_file(input_file, format=file_ext[1:])  # Remove dot from extension\n",
        "        audio.export(output_file, format=\"wav\")\n",
        "        print(f\"Conversion successful: {output_file}\")\n",
        "    else:\n",
        "        print(\"Unsupported file format. Only WEBM and FLAC are allowed.\")\n",
        "\n",
        "    return output_file\n",
        "\n",
        "# Example usage\n",
        "input_audio = \"sample2.flac\"  # Change to sample.webm if needed\n",
        "converted_audio = convert_to_wav(input_audio)\n"
      ],
      "metadata": {
        "colab": {
          "base_uri": "https://localhost:8080/"
        },
        "id": "vVR51I6FT0JC",
        "outputId": "aae30103-c4fa-4b95-a1b7-7dd18b995492"
      },
      "execution_count": null,
      "outputs": [
        {
          "output_type": "stream",
          "name": "stdout",
          "text": [
            "Conversion successful: sample2.wav\n"
          ]
        }
      ]
    },
    {
      "cell_type": "code",
      "source": [
        "# from pydub import AudioSegment\n",
        "\n",
        "# audio = AudioSegment.from_file(\"sample-9.webm\", format=\"webm\")\n",
        "# audio.export(\"sample-9.wav\", format=\"wav\")"
      ],
      "metadata": {
        "colab": {
          "base_uri": "https://localhost:8080/"
        },
        "id": "xk4Y5-RvLwb6",
        "outputId": "237a8c53-d97f-4cc2-cc33-fb8d6fc7b4ea"
      },
      "execution_count": null,
      "outputs": [
        {
          "output_type": "execute_result",
          "data": {
            "text/plain": [
              "<_io.BufferedRandom name='sample-9.wav'>"
            ]
          },
          "metadata": {},
          "execution_count": 2
        }
      ]
    },
    {
      "cell_type": "code",
      "execution_count": null,
      "metadata": {
        "id": "1vEhBCZGQum5",
        "colab": {
          "base_uri": "https://localhost:8080/"
        },
        "outputId": "6f843634-8469-42c6-8b86-7bb125566b6d"
      },
      "outputs": [
        {
          "output_type": "stream",
          "name": "stderr",
          "text": [
            "/usr/local/lib/python3.11/dist-packages/speechbrain/utils/checkpoints.py:200: FutureWarning: You are using `torch.load` with `weights_only=False` (the current default value), which uses the default pickle module implicitly. It is possible to construct malicious pickle data which will execute arbitrary code during unpickling (See https://github.com/pytorch/pytorch/blob/main/SECURITY.md#untrusted-models for more details). In a future release, the default value for `weights_only` will be flipped to `True`. This limits the functions that could be executed during unpickling. Arbitrary objects will no longer be allowed to be loaded via this mode unless they are explicitly allowlisted by the user via `torch.serialization.add_safe_globals`. We recommend you start setting `weights_only=True` for any use case where you don't have full control of the loaded file. Please open an issue on GitHub for any issues related to this experimental feature.\n",
            "  state_dict = torch.load(path, map_location=device)\n"
          ]
        },
        {
          "output_type": "stream",
          "name": "stdout",
          "text": [
            "Resampling the audio from 48000 Hz to 16000 Hz\n"
          ]
        }
      ],
      "source": [
        "from speechbrain.inference.separation import SepformerSeparation as separator\n",
        "import torchaudio\n",
        "from IPython.display import Audio\n",
        "model = separator.from_hparams(source=\"speechbrain/sepformer-wham16k-enhancement\", savedir='pretrained_models/sepformer-wham16k-enhancement')\n",
        "audio_sources = model.separate_file(path='sample2.wav')\n",
        "torchaudio.save(\"converted_audio.wav\", audio_sources[:, :, 0], 16000)"
      ]
    },
    {
      "cell_type": "code",
      "source": [
        "# from speechbrain.inference.separation import SepformerSeparation as separator\n",
        "# import torchaudio\n",
        "# import torchaudio.transforms as transforms\n",
        "\n",
        "# # Load and preprocess the audio\n",
        "# audio_path = \"sample1.wav\"\n",
        "# waveform, sample_rate = torchaudio.load(audio_path)\n",
        "\n",
        "# # Convert to mono if stereo\n",
        "# if waveform.shape[0] > 1:\n",
        "#     waveform = waveform.mean(dim=0, keepdim=True)\n",
        "\n",
        "# # Normalize audio\n",
        "# waveform = waveform / waveform.abs().max()\n",
        "\n",
        "# # Save preprocessed audio\n",
        "# preprocessed_path = \"preprocessed.wav\"\n",
        "# torchaudio.save(preprocessed_path, waveform, sample_rate)\n",
        "\n",
        "# # Load SpeechBrain model (using a more robust model for reverberation and noise)\n",
        "# model = separator.from_hparams(source=\"speechbrain/sepformer-whamr-enhancement\",\n",
        "#                                savedir=\"pretrained_models/sepformer-whamr-enhancement\")\n",
        "\n",
        "# # Perform separation\n",
        "# audio_sources = model.separate_file(path=preprocessed_path)\n",
        "\n",
        "# # Determine the number of sources detected\n",
        "# num_sources = audio_sources.shape[-1]  # Typically 2 (voice + drums)\n",
        "\n",
        "# # Save separated outputs dynamically\n",
        "# for i in range(num_sources):\n",
        "#     output_path = f\"separated_source_{i+1}.wav\"\n",
        "#     torchaudio.save(output_path, audio_sources[:, :, i], sample_rate)\n",
        "#     print(f\"Saved: {output_path}\")\n"
      ],
      "metadata": {
        "colab": {
          "base_uri": "https://localhost:8080/"
        },
        "id": "ekZZK8i7UzpI",
        "outputId": "8d01b857-56ce-40ad-b31a-3a574b22e417"
      },
      "execution_count": null,
      "outputs": [
        {
          "output_type": "stream",
          "name": "stdout",
          "text": [
            "Resampling the audio from 48000 Hz to 8000 Hz\n",
            "Saved: separated_source_1.wav\n"
          ]
        }
      ]
    },
    {
      "cell_type": "code",
      "source": [],
      "metadata": {
        "id": "DtCvNFBAUzjG"
      },
      "execution_count": null,
      "outputs": []
    },
    {
      "cell_type": "code",
      "source": [],
      "metadata": {
        "id": "SWl-z8qyUzVY"
      },
      "execution_count": null,
      "outputs": []
    }
  ]
}
